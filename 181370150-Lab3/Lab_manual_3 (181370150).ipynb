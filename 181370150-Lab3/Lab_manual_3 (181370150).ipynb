{
 "cells": [
  {
   "cell_type": "markdown",
   "metadata": {},
   "source": [
    "## Sum of Digits in a String\n",
    "Write a program that asks the user to enter a series of single-digit numbers with nothing\n",
    "separating them. The program should display the sum of all the single digit numbers in the\n",
    "string. For example, if the user enters 2514, the method should return 12, which is the sum\n",
    "of 2, 5, 1, and 4."
   ]
  },
  {
   "cell_type": "code",
   "execution_count": 1,
   "metadata": {},
   "outputs": [
    {
     "name": "stdout",
     "output_type": "stream",
     "text": [
      "Enter a series of single-digit numbers : 1234\n",
      "The sum of all the single digit numbers 10 \n"
     ]
    }
   ],
   "source": [
    "number= input(\"Enter a series of single-digit numbers : \")\n",
    "count=0\n",
    "for num in number:\n",
    "    count+= int(num)\n",
    "print(\"The sum of all the single digit numbers {} \". format(count))\n",
    "    "
   ]
  },
  {
   "cell_type": "markdown",
   "metadata": {},
   "source": [
    "## Morse Code Converter\n",
    "Morse code is a code where each letter of the English alphabet, each digit, and various\n",
    "punctuation characters are represented by a series of dots and dashes. Table 8-4 shows\n",
    "part of the code.\n",
    "Write a program that asks the user to enter a string, and then converts that string to Morse\n",
    "code."
   ]
  },
  {
   "cell_type": "code",
   "execution_count": 4,
   "metadata": {},
   "outputs": [
    {
     "name": "stdout",
     "output_type": "stream",
     "text": [
      "Enter text to convert to Morse code  Bisma\n",
      "-........--.-\n"
     ]
    }
   ],
   "source": [
    "def to_morse_code(text):\n",
    "    code = { 'A':'.-', 'B':'-...','C':'-.-.', 'D':'-..', 'E':'.',\n",
    "            'F':'..-.', 'G':'--.', 'H':'....','I':'..', 'J':'.---', 'K':'-.-',\n",
    "            'L':'.-..', 'M':'--', 'N':'-.','O':'---', 'P':'.--.', 'Q':'--.-',\n",
    "            'R':'.-.', 'S':'...', 'T':'-','U':'..-', 'V':'...-', 'W':'.--',\n",
    "            'X':'-..-', 'Y':'-.--', 'Z':'--..','1':'.----', '2':'..---', '3':'...--',\n",
    "            '4':'....-', '5':'.....', '6':'-....','7':'--...', '8':'---..', '9':'----.',\n",
    "            '0':'-----', ', ':'--..--', '.':'.-.-.-','?':'..--..', '/':'-..-.', '-':'-....-',\n",
    "            '(':'-.--.', ')':'-.--.-'}\n",
    "    morse_code=\"\"\n",
    "    for x in text:\n",
    "        morse_code += code[x.upper()]\n",
    "    return morse_code\n",
    "\n",
    "text= input(\"Enter text to convert to Morse code  \")\n",
    "print(to_morse_code(text))"
   ]
  },
  {
   "cell_type": "markdown",
   "metadata": {},
   "source": [
    "## Reverse Incremental String Slicing\n",
    "\n",
    "Sometimes, while working with Pythonn strings, we can have a problem in which we need to perform the slice and print of strings in reverse order. This can have application in day-day programming. So in this exercise write a program that reverse the string in incremental order.\n",
    "\n",
    "For Example:\n",
    "\n",
    "    Orignal String : GIFT\n",
    "    \n",
    "    Incremental reverse strings: ['T','TF','TFI','TFIG']"
   ]
  },
  {
   "cell_type": "code",
   "execution_count": 6,
   "metadata": {},
   "outputs": [
    {
     "name": "stdout",
     "output_type": "stream",
     "text": [
      "Enter String Bisma\n",
      "The original string is : Bisma\n",
      "The incremental reverse strings : ['a', 'am', 'ams', 'amsi', 'amsiB']\n"
     ]
    }
   ],
   "source": [
    "test_str = input(\"Enter String \")\n",
    "  \n",
    "print(\"The original string is : \" + test_str)\n",
    "  \n",
    "res = []\n",
    "sub = ''\n",
    "for ch in reversed(test_str):\n",
    "    sub += str(ch)\n",
    "    res.append(sub)\n",
    "  \n",
    "print(\"The incremental reverse strings : \" + str(res)) "
   ]
  },
  {
   "cell_type": "markdown",
   "metadata": {},
   "source": [
    "## Alphabetic Telephone Number Translator\n",
    "\n",
    "Many companies use telephone numbers like 555-GET-FOOD so the number is easier for\n",
    "their customers to remember. On a standard telephone, the alphabetic letters are mapped\n",
    "to numbers in the following fashion:\n",
    "\n",
    "|Letters|Number|\n",
    "|---|---|\n",
    "|A, B, and C | 2\n",
    "|D, E, and F | 3\n",
    "|G, H, and I | 4\n",
    "|J, K, and L | 5\n",
    "|M, N, and O | 6\n",
    "|P, Q, R, and S | 7\n",
    "|T, U, and V | 8\n",
    "|W, X, Y, and Z | 9\n",
    "\n",
    "Write a program that asks the user to enter a 10-character telephone number in the format\n",
    "XXX-XXX-XXXX. The application should display the telephone number with any\n",
    "alphabetic characters that appeared in the original translated to their numeric equivalent.\n",
    "For example, if the user enters 555-GET-FOOD the application should display\n",
    "555-438-3663."
   ]
  },
  {
   "cell_type": "code",
   "execution_count": 7,
   "metadata": {},
   "outputs": [
    {
     "name": "stdout",
     "output_type": "stream",
     "text": [
      "Enter the number in the format of 555-XXX-XXXX\n",
      "555-Get-Food\n",
      "555-438-3663\n"
     ]
    }
   ],
   "source": [
    "phoneNum = input('Enter the number in the format of 555-XXX-XXXX\\n')\n",
    "newPhoneNumber = ''\n",
    "for char in phoneNum:\n",
    "    if char.upper() in \"ABC\":\n",
    "        char = '2'\n",
    "    elif char.upper() in \"DEF\":\n",
    "        char = '3'\n",
    "    elif char.upper() in \"GHI\":\n",
    "        char = '4'\n",
    "    elif char.upper() in \"JKL\":\n",
    "        char = '5'\n",
    "    elif char.upper() in \"MNO\":\n",
    "        char = '6'\n",
    "    elif char.upper() in \"PQRS\":\n",
    "        char = '7'\n",
    "    elif char.upper() in \"TUV\":\n",
    "        char = '8'\n",
    "    elif char.upper() in \"WXYZ\":\n",
    "        char = '9'\n",
    "    newPhoneNumber = newPhoneNumber + char\n",
    "\n",
    "print(newPhoneNumber)"
   ]
  },
  {
   "cell_type": "markdown",
   "metadata": {},
   "source": [
    "## Password Validation\n",
    "Assume that you are writing a program for a local software house. It is a password checker program. Two Python built-in functions you’ll need are ord(character) and chr(asciiNumber). ord(character) takes a character and returns its ascii value. In opposite fashion, chr(asciiValue) takes an ascii value and returns a character mapped on that ascii value. Following is ascii chart.\n",
    "\n",
    "<br>\n",
    "<figure>\n",
    "  <img src='asciiTable.png' alt = \"ASCII Code Table\"/>\n",
    "  <center><figcaption>Fig:5 ASCII Code Table</figcaption></center>\n",
    "</figure>\n",
    "<br>\n",
    "\n",
    "That particular software house sets the criteria of password as: A password is valid if and only if it has:\n",
    "* At least one lower case letter\n",
    "* At least one upper case letter\n",
    "* At least one special characters from the above given image.\n",
    "* At least one digit\n",
    "\n",
    "All other passwords are invalid. Use the functions described above to create this program.Summing up the program requirements: \n",
    "\n",
    "1. takes input as password from user\n",
    "2. Apply the described tests\n",
    "3. And prints whether the password is valid or invalid.\n"
   ]
  },
  {
   "cell_type": "code",
   "execution_count": 8,
   "metadata": {},
   "outputs": [
    {
     "name": "stdout",
     "output_type": "stream",
     "text": [
      "Input your password :Bisma@1\n",
      "Valid Password\n",
      "The ASCII value of Password B is:  66\n",
      "The ASCII value of Password i is:  105\n",
      "The ASCII value of Password s is:  115\n",
      "The ASCII value of Password m is:  109\n",
      "The ASCII value of Password a is:  97\n",
      "The ASCII value of Password @ is:  64\n",
      "The ASCII value of Password 1 is:  49\n"
     ]
    }
   ],
   "source": [
    "import re\n",
    "p= input(\"Input your password :\")\n",
    "x = True\n",
    "while x:  \n",
    "    if (len(p)<6 or len(p)>12):\n",
    "        break\n",
    "    elif not re.search(\"[a-z]\",p):\n",
    "        break\n",
    "    elif not re.search(\"[0-9]\",p):\n",
    "        break\n",
    "    elif not re.search(\"[A-Z]\",p):\n",
    "        break\n",
    "    elif not re.search(\"[$#@]\",p):\n",
    "        break\n",
    "    elif re.search(\"\\s\",p):\n",
    "        break\n",
    "    else:\n",
    "        print(\"Valid Password\")\n",
    "        x=False\n",
    "        break\n",
    "\n",
    "if x:\n",
    "    print(\"Not a Valid Password\")\n",
    "\n",
    "for result in p:\n",
    "\n",
    "    print(\"The ASCII value of Password \" + result + \" is: \", ord(result))\n",
    "    "
   ]
  },
  {
   "cell_type": "markdown",
   "metadata": {},
   "source": [
    "## Sentence Capitalizer\n",
    "Write a program with a function that accepts a string as an argument and returns a copy of\n",
    "the string with the first character of each sentence capitalized. For instance, if the argument\n",
    "is “hello. my name is Joe. what is your name?” the function should return the string “Hello.\n",
    "My name is Joe. What is your name?” The program should let the user enter a string and\n",
    "then pass it to the function. The modified string should be displayed."
   ]
  },
  {
   "cell_type": "code",
   "execution_count": 10,
   "metadata": {},
   "outputs": [
    {
     "name": "stdout",
     "output_type": "stream",
     "text": [
      "Enter Sentence :hello. my name is Bisma. what is your name??\n",
      "Hello. My name is Bisma. What is your name??\n"
     ]
    }
   ],
   "source": [
    "def sentenceCapitalizer (string1: str):\n",
    "    sentences = string1.split(\". \")\n",
    "    sentences2 = [sentence[0].capitalize() + sentence[1:] for sentence in sentences]\n",
    "    string2 = '. '.join(sentences2)\n",
    "    return string2\n",
    "\n",
    "sentence= input(\"Enter Sentence :\")\n",
    "print(sentenceCapitalizer(sentence))"
   ]
  },
  {
   "cell_type": "markdown",
   "metadata": {},
   "source": [
    "## Pig Latin\n",
    "\n",
    "Write a program that accepts a sentence as input and converts each word to “Pig Latin.” In\n",
    "one version, to convert a word to Pig Latin you remove the first letter and place that letter\n",
    "at the end of the word. Then you append the string “ay” to the word. Here is an example:\n",
    "\n",
    "    English: I SLEPT MOST OF THE NIGHT\n",
    "    Pig Latin: IAY LEPTSAY OSTMAY FOAY HETAY IGHTNAY"
   ]
  },
  {
   "cell_type": "code",
   "execution_count": 11,
   "metadata": {},
   "outputs": [
    {
     "name": "stdout",
     "output_type": "stream",
     "text": [
      "Input Sentence: Type what you would like translated into pig-latin and press ENTER: I SLEPT MOST OF THE NIGHT\n",
      "Iay LEPTSay OSTMay FOay HETay IGHTNay \n"
     ]
    }
   ],
   "source": [
    "def main():\n",
    "    words = str(input(\"Input Sentence: Type what you would like translated into pig-latin and press ENTER: \")).split()\n",
    "    for word in words:\n",
    "        print(word[1:] + word[0] + \"ay\", end = \" \")\n",
    "    print ()\n",
    "\n",
    "main()"
   ]
  },
  {
   "cell_type": "code",
   "execution_count": null,
   "metadata": {},
   "outputs": [],
   "source": []
  }
 ],
 "metadata": {
  "kernelspec": {
   "display_name": "Python 3",
   "language": "python",
   "name": "python3"
  },
  "language_info": {
   "codemirror_mode": {
    "name": "ipython",
    "version": 3
   },
   "file_extension": ".py",
   "mimetype": "text/x-python",
   "name": "python",
   "nbconvert_exporter": "python",
   "pygments_lexer": "ipython3",
   "version": "3.8.5"
  }
 },
 "nbformat": 4,
 "nbformat_minor": 4
}
