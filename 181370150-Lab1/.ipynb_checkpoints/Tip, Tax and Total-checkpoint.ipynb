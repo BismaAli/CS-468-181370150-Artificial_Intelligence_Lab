{
 "cells": [
  {
   "cell_type": "code",
   "execution_count": 10,
   "metadata": {},
   "outputs": [
    {
     "name": "stdout",
     "output_type": "stream",
     "text": [
      "Enter the charges of Food : 30\n",
      "Tip :5.3999999999999995\n",
      "Sales Tax : 2.1\n",
      "Total amount : 37.5\n"
     ]
    }
   ],
   "source": [
    "food_price = float(input(\"Enter the charges of Food : \"))\n",
    "\n",
    "Tip_rate= 0.18\n",
    "Sales_tax= 0.07\n",
    "\n",
    "Tip= Tip_rate* food_price\n",
    "Tax= Sales_tax * food_price\n",
    "\n",
    "print(\"Tip :\" + str(Tip))\n",
    "print(\"Sales Tax : \"+ str(Tax))\n",
    "print(\"Total amount : \"+ str(Tip+ Tax+ food_price))"
   ]
  },
  {
   "cell_type": "code",
   "execution_count": null,
   "metadata": {},
   "outputs": [],
   "source": []
  }
 ],
 "metadata": {
  "kernelspec": {
   "display_name": "Python 3",
   "language": "python",
   "name": "python3"
  },
  "language_info": {
   "codemirror_mode": {
    "name": "ipython",
    "version": 3
   },
   "file_extension": ".py",
   "mimetype": "text/x-python",
   "name": "python",
   "nbconvert_exporter": "python",
   "pygments_lexer": "ipython3",
   "version": "3.8.5"
  }
 },
 "nbformat": 4,
 "nbformat_minor": 4
}
