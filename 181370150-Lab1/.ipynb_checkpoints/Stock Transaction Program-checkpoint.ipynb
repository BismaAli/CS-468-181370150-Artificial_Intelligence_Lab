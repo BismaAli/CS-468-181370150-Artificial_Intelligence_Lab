{
 "cells": [
  {
   "cell_type": "code",
   "execution_count": 6,
   "metadata": {},
   "outputs": [
    {
     "name": "stdout",
     "output_type": "stream",
     "text": [
      "The amount of money Joe paid for the stock  : 80000\n",
      "The amount of commission Joe paid his broker when he bought the stock  : 2400.0\n",
      "The amount that Joe sold the stock for :85500.0\n",
      "The amount of commission Joe paid his broker when he sold the stock :2565.0\n",
      "Total leftover amount : 80535.0\n"
     ]
    }
   ],
   "source": [
    "stokebroker_commision = 0.03\n",
    "\n",
    "share_sold = share_perchase= 2000\n",
    "price_per_share= 40\n",
    "\n",
    "Amount_paid_for_stock = price_per_share*share_perchase\n",
    "print(\"The amount of money Joe paid for the stock  : \" + str(Amount_paid_for_stock))\n",
    "\n",
    "Commision_paid_when_perchase = Amount_paid_for_stock * stokebroker_commision\n",
    "print(\"The amount of commission Joe paid his broker when he bought the stock  : \" + str(Commision_paid_when_perchase))\n",
    "\n",
    "price_per_share= 42.75\n",
    "\n",
    "Amount_Sold_for_stock = price_per_share * share_sold\n",
    "print(\"The amount that Joe sold the stock for :\" + str(Amount_Sold_for_stock))\n",
    "\n",
    "Commision_paid_when_sold = Amount_Sold_for_stock * stokebroker_commision\n",
    "print(\"The amount of commission Joe paid his broker when he sold the stock :\" + str(Commision_paid_when_sold))\n",
    "\n",
    "Total_amount_left = Amount_Sold_for_stock - (Commision_paid_when_perchase + Commision_paid_when_sold )\n",
    "print(\"Total leftover amount : \"+ str(Total_amount_left))\n"
   ]
  }
 ],
 "metadata": {
  "kernelspec": {
   "display_name": "Python 3",
   "language": "python",
   "name": "python3"
  },
  "language_info": {
   "codemirror_mode": {
    "name": "ipython",
    "version": 3
   },
   "file_extension": ".py",
   "mimetype": "text/x-python",
   "name": "python",
   "nbconvert_exporter": "python",
   "pygments_lexer": "ipython3",
   "version": "3.8.5"
  }
 },
 "nbformat": 4,
 "nbformat_minor": 4
}
