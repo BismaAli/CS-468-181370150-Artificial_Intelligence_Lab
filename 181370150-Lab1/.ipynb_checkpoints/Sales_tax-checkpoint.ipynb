{
 "cells": [
  {
   "cell_type": "markdown",
   "metadata": {},
   "source": [
    "# Exercise\n",
    "\n",
    "## Sales Tax\n",
    "Write a program that will ask the user to enter the amount of a purchase. The program\n",
    "should then compute the state and county sales tax. Assume the state sales tax is 5 percent\n",
    "and the county sales tax is 2.5 percent. The program should display the following:\n",
    "* The amount of the purchase\n",
    "* The state sales tax\n",
    "* The county sales tax\n",
    "* The total sales tax\n",
    "* and the total of the sale (which is the sum of the amount of purchase plus the total sales tax).\n"
   ]
  },
  {
   "cell_type": "code",
   "execution_count": 1,
   "metadata": {},
   "outputs": [
    {
     "name": "stdout",
     "output_type": "stream",
     "text": [
      "Enter the amount of purchase :24\n",
      "The amount of Purchase is : 24.0\n",
      "The  amount of state sales Tax is : 1.2000000000000002\n",
      "The amount of state Country Tax is : 0.6000000000000001\n",
      "Total Sales Tax is : 1.8000000000000003\n",
      "The Total of sales is : 25.8\n"
     ]
    }
   ],
   "source": [
    "#Task 1 Sales Tax\n",
    "\n",
    "price = float(input(\"Enter the amount of purchase :\"))\n",
    "\n",
    "# declare sales tax and state tax\n",
    "STATE_SALES_TAX = 0.05\n",
    "COUNTRY_SALES_TAX = 0.025\n",
    "\n",
    "stateSalesTax = price * STATE_SALES_TAX\n",
    "stateCountryTax = price * COUNTRY_SALES_TAX\n",
    "\n",
    "print(\"The amount of Purchase is : \" + str(price))\n",
    "print(\"The  amount of state sales Tax is : \"+ str(stateSalesTax))\n",
    "print(\"The amount of state Country Tax is : \"+ str(stateCountryTax))\n",
    "print(\"Total Sales Tax is : \"+ str(stateCountryTax + stateSalesTax ))\n",
    "print(\"The Total of sales is : \"+ str(price + stateSalesTax + stateCountryTax))\n"
   ]
  }
 ],
 "metadata": {
  "kernelspec": {
   "display_name": "Python 3",
   "language": "python",
   "name": "python3"
  },
  "language_info": {
   "codemirror_mode": {
    "name": "ipython",
    "version": 3
   },
   "file_extension": ".py",
   "mimetype": "text/x-python",
   "name": "python",
   "nbconvert_exporter": "python",
   "pygments_lexer": "ipython3",
   "version": "3.8.5"
  }
 },
 "nbformat": 4,
 "nbformat_minor": 4
}
