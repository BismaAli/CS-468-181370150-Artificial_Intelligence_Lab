{
 "cells": [
  {
   "cell_type": "code",
   "execution_count": 3,
   "metadata": {},
   "outputs": [
    {
     "name": "stdout",
     "output_type": "stream",
     "text": [
      "Enter the amount of purchase :20\n",
      "The amount of Purchase is : 20.0\n",
      "The  amount of state sales Tax is : 1.0\n",
      "The amount of state Country Tax is : 0.5\n",
      "Total Sales Tax is : 1.5\n",
      "The Total of sales is : 21.5\n"
     ]
    }
   ],
   "source": [
    "#Task 1 Sales Tax\n",
    "\n",
    "price = float(input(\"Enter the amount of purchase :\"))\n",
    "\n",
    "# declare sales tax and state tax\n",
    "STATE_SALES_TAX = 0.05\n",
    "COUNTRY_SALES_TAX = 0.025\n",
    "\n",
    "stateSalesTax = price * STATE_SALES_TAX\n",
    "stateCountryTax = price * COUNTRY_SALES_TAX\n",
    "\n",
    "print(\"The amount of Purchase is : \" + str(price))\n",
    "print(\"The  amount of state sales Tax is : \"+ str(stateSalesTax))\n",
    "print(\"The amount of state Country Tax is : \"+ str(stateCountryTax))\n",
    "print(\"Total Sales Tax is : \"+ str(stateCountryTax + stateSalesTax ))\n",
    "print(\"The Total of sales is : \"+ str(price + stateSalesTax + stateCountryTax))\n"
   ]
  },
  {
   "cell_type": "code",
   "execution_count": null,
   "metadata": {},
   "outputs": [],
   "source": []
  }
 ],
 "metadata": {
  "kernelspec": {
   "display_name": "Python 3",
   "language": "python",
   "name": "python3"
  },
  "language_info": {
   "codemirror_mode": {
    "name": "ipython",
    "version": 3
   },
   "file_extension": ".py",
   "mimetype": "text/x-python",
   "name": "python",
   "nbconvert_exporter": "python",
   "pygments_lexer": "ipython3",
   "version": "3.8.5"
  }
 },
 "nbformat": 4,
 "nbformat_minor": 4
}
