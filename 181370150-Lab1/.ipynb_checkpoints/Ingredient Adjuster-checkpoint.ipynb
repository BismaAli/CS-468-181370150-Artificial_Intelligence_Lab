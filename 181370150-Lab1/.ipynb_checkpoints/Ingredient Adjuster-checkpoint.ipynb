{
 "cells": [
  {
   "cell_type": "markdown",
   "metadata": {},
   "source": [
    "## Ingredient Adjuster\n",
    "\n",
    "A cookie recipe calls for the following ingredients:\n",
    "* 1.5 cups of sugar\n",
    "* 1 cup of butter\n",
    "* 2.75 cups of flour\n",
    "\n",
    "The recipe produces 48 cookies with this amount of the ingredients. Write a program that\n",
    "asks the user how many cookies he or she wants to make, and then displays the number of\n",
    "cups of each ingredient needed for the specified number of cookies."
   ]
  },
  {
   "cell_type": "code",
   "execution_count": 8,
   "metadata": {},
   "outputs": [
    {
     "name": "stdout",
     "output_type": "stream",
     "text": [
      "Enter the number of cookies :50\n",
      "Number of Cookies : 50.0\n",
      "Total Sugar : 1.5625\n",
      "Total Butter :1.0416666666666667\n",
      "Total Flour :2.8645833333333335\n"
     ]
    }
   ],
   "source": [
    "Number_of_cookies= float(input(\"Enter the number of cookies :\"))\n",
    "\n",
    "Cookies= 48; \n",
    "Suger= 1.5\n",
    "Butter= 1\n",
    "Flour= 2.75\n",
    "\n",
    "total_suger = (Suger * Number_of_cookies)/ Cookies\n",
    "total_butter = (Butter * Number_of_cookies)/ Cookies\n",
    "total_flour = (Flour * Number_of_cookies)/Cookies\n",
    "\n",
    "print(\"Number of Cookies : \"+ str(Number_of_cookies))\n",
    "print(\"Total Sugar : \"+ str(total_suger))\n",
    "print(\"Total Butter :\"+ str(total_butter))\n",
    "print(\"Total Flour :\" + str(total_flour))"
   ]
  }
 ],
 "metadata": {
  "kernelspec": {
   "display_name": "Python 3",
   "language": "python",
   "name": "python3"
  },
  "language_info": {
   "codemirror_mode": {
    "name": "ipython",
    "version": 3
   },
   "file_extension": ".py",
   "mimetype": "text/x-python",
   "name": "python",
   "nbconvert_exporter": "python",
   "pygments_lexer": "ipython3",
   "version": "3.8.5"
  }
 },
 "nbformat": 4,
 "nbformat_minor": 4
}
