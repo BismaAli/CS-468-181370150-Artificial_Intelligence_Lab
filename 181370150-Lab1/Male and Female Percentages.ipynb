{
 "cells": [
  {
   "cell_type": "markdown",
   "metadata": {},
   "source": [
    "## Male and Female Percentages\n",
    "Write a program that asks the user for the number of males and the number of females registered\n",
    "in a class. The program should display the percentage of males and females in the class.\n",
    "\n",
    "*Hint: Suppose there are 8 males and 12 females in a class. There are 20 students in the\n",
    "class. The percentage of males can be calculated as 8 4 20 5 0.4, or 40%. The percentage\n",
    "of females can be calculated as 12 4 20 5 0.6, or 60%.*\n"
   ]
  },
  {
   "cell_type": "code",
   "execution_count": 8,
   "metadata": {},
   "outputs": [
    {
     "name": "stdout",
     "output_type": "stream",
     "text": [
      "How many males are in the class :30\n",
      "How many female are in the class e :20\n",
      "Percentage of Male Student in Class :60.0%\n",
      "Percentage of Female Student in Class :40.0%\n"
     ]
    }
   ],
   "source": [
    "number_of_males = int(input(\"How many males are in the class :\"))\n",
    "number_of_female = int(input(\"How many female are in the class :\"))\n",
    "total_student = number_of_males + number_of_female\n",
    "\n",
    "percentage_of_males = (number_of_males/total_student)*100\n",
    "percentage_of_female = (number_of_female/total_student)*100\n",
    "\n",
    "print(\"Percentage of Male Student in Class :\" + str(percentage_of_males) + \"%\")\n",
    "print(\"Percentage of Female Student in Class :\" + str(percentage_of_female) + \"%\")"
   ]
  }
 ],
 "metadata": {
  "kernelspec": {
   "display_name": "Python 3",
   "language": "python",
   "name": "python3"
  },
  "language_info": {
   "codemirror_mode": {
    "name": "ipython",
    "version": 3
   },
   "file_extension": ".py",
   "mimetype": "text/x-python",
   "name": "python",
   "nbconvert_exporter": "python",
   "pygments_lexer": "ipython3",
   "version": "3.8.5"
  }
 },
 "nbformat": 4,
 "nbformat_minor": 4
}
