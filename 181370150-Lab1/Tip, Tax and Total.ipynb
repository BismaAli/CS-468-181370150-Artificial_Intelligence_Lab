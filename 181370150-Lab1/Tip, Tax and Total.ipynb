{
 "cells": [
  {
   "cell_type": "markdown",
   "metadata": {},
   "source": [
    "## Tip, Tax and Total\n",
    "Write a program that calculates the total amount of a meal purchased at a restaurant. The\n",
    "program should ask the user to enter the charge for the food, and then calculate the amount\n",
    "of a 18 percent tip and 7 percent sales tax. Display each of these amounts and the total."
   ]
  },
  {
   "cell_type": "code",
   "execution_count": 1,
   "metadata": {},
   "outputs": [
    {
     "name": "stdout",
     "output_type": "stream",
     "text": [
      "Enter the charges of Food : 45\n",
      "Tip : 8.1\n",
      "Sales Tax :  3.1500000000000004\n",
      "Total amount :  56.25\n"
     ]
    }
   ],
   "source": [
    "food_price = float(input(\"Enter the charges of Food : \"))\n",
    "\n",
    "Tip_rate= 0.18\n",
    "Sales_tax= 0.07\n",
    "\n",
    "Tip= Tip_rate* food_price\n",
    "Tax= Sales_tax * food_price\n",
    "\n",
    "print(\"Tip :\" , Tip)\n",
    "print(\"Sales Tax : \", Tax)\n",
    "print(\"Total amount : \", Tip+ Tax+ food_price)"
   ]
  }
 ],
 "metadata": {
  "kernelspec": {
   "display_name": "Python 3",
   "language": "python",
   "name": "python3"
  },
  "language_info": {
   "codemirror_mode": {
    "name": "ipython",
    "version": 3
   },
   "file_extension": ".py",
   "mimetype": "text/x-python",
   "name": "python",
   "nbconvert_exporter": "python",
   "pygments_lexer": "ipython3",
   "version": "3.8.5"
  }
 },
 "nbformat": 4,
 "nbformat_minor": 4
}
