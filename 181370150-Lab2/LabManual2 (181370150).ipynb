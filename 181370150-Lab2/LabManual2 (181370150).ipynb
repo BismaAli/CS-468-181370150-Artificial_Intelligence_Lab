{
 "cells": [
  {
   "cell_type": "markdown",
   "metadata": {},
   "source": [
    "## Mass and Weight\n",
    "\n",
    "Scientists measure an object’s mass in kilograms and its weight in newtons. If you know\n",
    "the amount of mass of an object in kilograms, you can calculate its weight in newtons with\n",
    "the following formula:\n",
    "**<center>weight = mass * 3 9.8</center>**\n",
    "Write a program that asks the user to enter an object’s mass, and then calculates its weight.\n",
    "If the object weighs more than 500 newtons, display a message indicating that it is too\n",
    "heavy. If the object weighs less than 100 newtons, display a message indicating that it is\n",
    "too light.\n",
    "\n"
   ]
  },
  {
   "cell_type": "code",
   "execution_count": 9,
   "metadata": {},
   "outputs": [
    {
     "name": "stdout",
     "output_type": "stream",
     "text": [
      "Enter the mass of Object  3\n",
      "Object Weight is  119.39999999999999\n",
      "it is just right\n"
     ]
    }
   ],
   "source": [
    "mass= int(input(\"Enter the mass of Object  \"))\n",
    "weight= mass* 39.8\n",
    "if weight>500:\n",
    "    print(\"Object Weight is \" , weight)\n",
    "    print(\"it is too heavy.\")\n",
    "elif weight<100:\n",
    "    print(\"Object Weight is \" , weight)\n",
    "    print(\"it is too light.\")\n",
    "elif weight>=100 and weight<=500:\n",
    "    print(\"Object Weight is \" , weight)\n",
    "    print(\"it is just right\")"
   ]
  },
  {
   "cell_type": "markdown",
   "metadata": {},
   "source": [
    "\n",
    "## Hot Dogs Cookout Calculator\n",
    "Assume that hot dogs come in packages of 10, and hot dog buns come in packages of 8.\n",
    "Write a program that calculates the number of packages of hot dogs and the number of\n",
    "packages of hot dog buns needed for a cookout, with the minimum amount of leftovers.\n",
    "The program should ask the user for the number of people attending the cookout and the\n",
    "number of hot dogs each person will be given. The program should display the following\n",
    "details:\n",
    "* The minimum number of packages of hot dogs required\n",
    "* The minimum number of packages of hot dog buns required\n",
    "* The number of hot dogs that will be left over\n",
    "* The number of hot dog buns that will be left over"
   ]
  },
  {
   "cell_type": "code",
   "execution_count": 6,
   "metadata": {},
   "outputs": [
    {
     "name": "stdout",
     "output_type": "stream",
     "text": [
      "Enter the number of people attending the cookout  50\n",
      "Enter the number of hot dogs each person will be given  2\n",
      "The minimum number of packages of hot dogs required  10\n",
      "The minimum number of packages of hot dog buns required  13\n",
      "The number of hot dogs that will be left over  0\n",
      "The number of hot dog buns that will be left over  4\n"
     ]
    }
   ],
   "source": [
    "people = int(input(\"Enter the number of people attending the cookout  \"))\n",
    "Hot_dogs= int(input(\"Enter the number of hot dogs each person will be given  \"))\n",
    "\n",
    "Hot_Dog_per_package= 10\n",
    "Buns_per_package= 8\n",
    "\n",
    "total= people* Hot_dogs\n",
    "\n",
    "if total%Hot_Dog_per_package ==0:\n",
    "    hot_dogs_pkg=total//Hot_Dog_per_package\n",
    "else:\n",
    "    hot_dogs_pkg=total//Hot_Dog_per_package+1\n",
    "if total%Buns_per_package==0:\n",
    "    hot_dogs_bun_pkg=total//Buns_per_package\n",
    "else:\n",
    "    hot_dogs_bun_pkg=total//Buns_per_package+1\n",
    "remaning_hot_dogs_pkg=total%10\n",
    "remaning_hot_dogs_bun_pkg=total%Buns_per_package\n",
    "\n",
    "print(\"The minimum number of packages of hot dogs required \" ,hot_dogs_pkg )\n",
    "print(\"The minimum number of packages of hot dog buns required \" ,hot_dogs_bun_pkg )\n",
    "print(\"The number of hot dogs that will be left over \" ,remaning_hot_dogs_pkg )\n",
    "print(\"The number of hot dog buns that will be left over \" ,remaning_hot_dogs_bun_pkg )"
   ]
  },
  {
   "cell_type": "markdown",
   "metadata": {},
   "source": [
    "## Miles Per Gallon\n",
    "\n",
    "Drivers are concerned with the mileage obtained\n",
    "by their automobiles. One driver has kept track of several tankfuls of\n",
    "gasoline by recording miles driven and gallons used for each tankful.\n",
    "Develop a sentinel-controlled-repetition script that prompts the user to\n",
    "input the miles driven and gallons used for each tankful. The script should\n",
    "calculate and display the miles per gallon obtained for each tankful. After\n",
    "processing all input information, the script should calculate and display\n",
    "the combined miles per gallon obtained for all tankfuls (that is, total miles\n",
    "driven divided by total gallons used).\n",
    "\n",
    "* Enter the gallons used (-1 to end): 12.8\n",
    "* Enter the miles driven: 287\n",
    "* The miles/gallon for this tank was 22.421875\n",
    "* Enter the gallons used (-1 to end): 10.3\n",
    "* Enter the miles driven: 200\n",
    "* The miles/gallon for this tank was 19.417475\n",
    "* Enter the gallons used (-1 to end): 5\n",
    "* Enter the miles driven: 120\n",
    "* The miles/gallon for this tank was 24.000000\n",
    "* Enter the gallons used (-1 to end): -1\n",
    "* The overall average miles/gallon was 21.601423"
   ]
  },
  {
   "cell_type": "code",
   "execution_count": 5,
   "metadata": {},
   "outputs": [
    {
     "name": "stdout",
     "output_type": "stream",
     "text": [
      "Enter the gallons used (-1 to end) : -1\n",
      "The overall average miles/gallon was  :  1.0\n"
     ]
    }
   ],
   "source": [
    "gallon=0\n",
    "while gallon!=-1:\n",
    "    \n",
    "    gallon=float(input(\"Enter the gallons used (-1 to end) : \"))\n",
    "    if gallon==-1:\n",
    "        break\n",
    "    totalgallon=0\n",
    "    totalgallon+= gallon\n",
    "    miles=int(input(\"Enter the miles driven : \"))\n",
    "    totalmiles=0\n",
    "    totalmiles+=  miles\n",
    "    print(\"The miles/gallon for this tank was : \",miles/gallon)\n",
    "print(\"The overall average miles/gallon was  : \" , totalmiles/ totalgallon)    "
   ]
  },
  {
   "cell_type": "markdown",
   "metadata": {},
   "source": [
    "## Software Sales\n",
    "A software company sells a package that retails for $99. Quantity discounts are given\n",
    "according to the following table:\n",
    "\n",
    "| Quantity | Discount | \n",
    "| --- | --- |\n",
    "| 10–19 | 10% |\n",
    "| 20–49 | 20% |\n",
    "| 50–99 | 30% |\n",
    "| 100 or more | 40%|\n",
    "\n",
    "Write a program that asks the user to enter the number of packages purchased. The program\n",
    "should then display the amount of the discount (if any) and the total amount of the\n",
    "purchase after the discount.\n"
   ]
  },
  {
   "cell_type": "code",
   "execution_count": 6,
   "metadata": {},
   "outputs": [
    {
     "name": "stdout",
     "output_type": "stream",
     "text": [
      "enter the number of packages purchased : 90\n",
      "you got 30% discount \n",
      "total amount of parchase after discount :   6237.0\n"
     ]
    }
   ],
   "source": [
    "packege=int(input(\"enter the number of packages purchased : \"))\n",
    "if packege>=10 and packege<19:\n",
    "    print(\"you got 10% discount \")\n",
    "    amount=packege*99\n",
    "    print(\"total amount of parchase after discount :  \" ,amount-(amount*0.1) )\n",
    "elif packege>=20 and packege<49:\n",
    "    print(\"you got 20% discount \")\n",
    "    amount=packege*99\n",
    "    print(\"total amount of parchase after discount :  \" ,amount-(amount*0.2) )\n",
    "elif packege>=50 and packege<99:\n",
    "    print(\"you got 30% discount \")\n",
    "    amount=packege*99\n",
    "    print(\"total amount of parchase after discount :  \" ,amount-(amount*0.3) )\n",
    "elif packege>=100:\n",
    "    print(\"you got 40% discount \")\n",
    "    amount=packege*99\n",
    "    print(\"total amount of parchase after discount :  \" ,amount-(amount*0.4) )"
   ]
  },
  {
   "cell_type": "markdown",
   "metadata": {},
   "source": [
    "## Shipping Charges\n",
    "\n",
    "The Fast Freight Shipping Company charges the following rates:\n",
    "\n",
    "| Weight of Package | Rate per Pound (Dollar) | \n",
    "| ---- | ---- |\n",
    "| 2 pounds or less |  1.50 |\n",
    "| Over 2 pounds but not more than 6 pounds |  3.00 |\n",
    "| Over 6 pounds but not more than 10 pounds | 4.00 |\n",
    "| Over 10 pounds | 4.75 |\n",
    "\n",
    "Write a program that asks the user to enter the weight of a package and then displays the\n",
    "shipping charges."
   ]
  },
  {
   "cell_type": "code",
   "execution_count": 7,
   "metadata": {},
   "outputs": [
    {
     "name": "stdout",
     "output_type": "stream",
     "text": [
      "enter the weight of a package : 6\n",
      "the shipping charges : 3.0$ \n"
     ]
    }
   ],
   "source": [
    "weight=float(input(\"enter the weight of a package : \"))\n",
    "if weight<=2:\n",
    "    print (\"the shipping charges : 1.5$ \")\n",
    "elif  weight>2 and weight<=6 :\n",
    "    print (\"the shipping charges : 3.0$ \")\n",
    "elif  weight>6 and weight<=10:\n",
    "    print (\"the shipping charges : 4.0$ \")\n",
    "elif  weight<10:\n",
    "    print (\"the shipping charges : 4.75$ \")"
   ]
  },
  {
   "cell_type": "markdown",
   "metadata": {},
   "source": [
    "\n",
    "## Body Mass Index\n",
    "\n",
    "Write a program that calculates and displays a person’s body mass index (BMI). The BMI\n",
    "is often used to determine whether a person is overweight or underweight for his or her\n",
    "height. A person’s BMI is calculated with the following formula:\n",
    "\n",
    "\n",
    "**<center>BMI = weight * 703 / height^2</center>**\n",
    "\n",
    "where weight is measured in pounds and height is measured in inches. The program\n",
    "should ask the user to enter his or her weight and height and then display the user’s BMI.\n",
    "The program should also display a message indicating whether the person has optimal\n",
    "weight, is underweight, or is overweight. A person’s weight is considered to be optimal\n",
    "if his or her BMI is between 18.5 and 25. If the BMI is less than 18.5, the person is considered\n",
    "to be underweight. If the BMI value is greater than 25, the person is considered\n",
    "to be overweight."
   ]
  },
  {
   "cell_type": "code",
   "execution_count": 12,
   "metadata": {},
   "outputs": [
    {
     "name": "stdout",
     "output_type": "stream",
     "text": [
      "Enter Weight in pound 103.617\n",
      "Entre hight in inch 64\n",
      "weight is considered to be underweight \n"
     ]
    }
   ],
   "source": [
    "weight=float(input(\"Enter Weight in pound \"))\n",
    "height=float(input(\"Entre hight in inch \"))\n",
    "bmi=(weight*703)/height**2\n",
    "if bmi>=18.5 and bmi <=25:\n",
    "    print(\"weight is considered to be optimal\")\n",
    "elif bmi<18.5:\n",
    "    print(\"weight is considered to be underweight \")\n",
    "elif bmi>25:\n",
    "    print(\"weigth is considered to be overweight. \")"
   ]
  },
  {
   "cell_type": "markdown",
   "metadata": {},
   "source": [
    "# Exercise (Loops)\n",
    "\n",
    "\n",
    "## Budget Analysis\n",
    "Write a program that asks the user to enter the amount that he or she has budgeted for\n",
    "a month. A loop should then prompt the user to enter each of his or her expenses for the\n",
    "month and keep a running total. When the loop finishes, the program should display the\n",
    "amount that the user is over or under budget.\n",
    "\n",
    "## Average Rainfall\n",
    "Write a program that uses nested loops to collect data and calculate the average rainfall\n",
    "over a period of years. The program should first ask for the number of years. The outer loop\n",
    "will iterate once for each year. The inner loop will iterate twelve times, once for each month.\n",
    "Each iteration of the inner loop will ask the user for the inches of rainfall for that month.\n",
    "After all iterations, the program should display the number of months, the total inches of\n",
    "rainfall, and the average rainfall per month for the entire period.\n",
    "\n",
    "\n",
    "## Guess the Number\n",
    "Write a script that plays “guess the number.”\n",
    "Choose the number to be guessed by selecting a random integer in the\n",
    "range 1 to 1000. Do not reveal this number to the user. **Display the prompt\n",
    "\"Guess my number between 1 and 1000 with the fewest\n",
    "guesses:\"**. The player inputs a first guess. If the guess is incorrect,\n",
    "display **\"Too high. Try again.\"** or **\"Too low. Try again.\" ** as\n",
    "appropriate to help the player “zero in” on the correct answer, then prompt\n",
    "the user for the next guess. When the user enters the correct answer,\n",
    "display **\"Congratulations. You guessed the number!\"**, and\n",
    "allow the user to choose whether to play again.\n",
    "\n",
    "## Population\n",
    "Write a program that predicts the approximate size of a population of organisms. The\n",
    "application should allow the user to enter the starting number of organisms,\n",
    "the average daily population increase (as a percentage), and the number of days the\n",
    "organisms will be left to multiply. For example, assume the user enters the following values:\n",
    "\n",
    "Starting number of organisms: 2\n",
    "\n",
    "Average daily increase: 30%\n",
    "\n",
    "Number of days to multiply: 10\n",
    "\n",
    "The program should display the following table of data:\n",
    "\n",
    "| Day Approximate | Population |\n",
    "| --- | --- |\n",
    "| 1 | 2 |\n",
    "| 2 | 2.6 |\n",
    "| 3 | 3.38 |\n",
    "| 4 | 4.394 |\n",
    "| 5 | 5.7122 |\n",
    "|6 | 7.42586 |\n",
    "|7 | 9.653619 |\n",
    "|8 | 12.5497 |\n",
    "|9 | 16.31462 |\n",
    "|10 | 21.209 |"
   ]
  },
  {
   "cell_type": "code",
   "execution_count": null,
   "metadata": {},
   "outputs": [],
   "source": [
    "budget=int(input(\"Enter the amount that he or she has budgeted for a month\"))\n",
    "i=0\n",
    "Enterbudget=0\n",
    "while enterbughat!=-1:\n",
    "    i=int(input(\"Enter expenses for the month (for exit -1 )\"))\n",
    "    if i==-1:\n",
    "        break\n",
    "    Enterbudget+=i\n",
    "if budget<Enterbudget:\n",
    "    print(\"user are over budget\")\n",
    "else:\n",
    "    print(\"user are under buget\")"
   ]
  },
  {
   "cell_type": "code",
   "execution_count": null,
   "metadata": {},
   "outputs": [],
   "source": [
    " year=int(input(\"Enter Year \"))\n",
    "total_rain_fall=0\n",
    "for i in range(1,year+1):\n",
    "    for j in range(1,13):\n",
    "        temp=float(input(\"enter value for  month  {}  : \".format(j)))\n",
    "        total_rain_fall+=temp \n",
    "print(\"Average rain fall is  :  \", total_rain_fall/year*12)  "
   ]
  },
  {
   "cell_type": "code",
   "execution_count": null,
   "metadata": {},
   "outputs": [],
   "source": [
    "import random\n",
    "n =random.randint(1,1000) \n",
    "print(n)\n",
    "usernumber=0\n",
    "while n!=1:\n",
    "    usernumber=int(input(\"Enter number \"))\n",
    "    if usernumber>n:\n",
    "        print(\"Too high. Try again\")\n",
    "    elif usernumber<n:\n",
    "        print(\"Too low. Try again\")\n",
    "    if usernumber==n:\n",
    "        print(\"Congratulations. You guessed the number!\")\n",
    "        i=int(input(\"if u want to play agian enter 1 otherwise 0 for terminate the program\"))\n",
    "        if i==0:\n",
    "            break\n",
    "        elif i==1:\n",
    "            continue"
   ]
  },
  {
   "cell_type": "code",
   "execution_count": null,
   "metadata": {},
   "outputs": [],
   "source": [
    "population=int(input(\"Starting number of organisms: \"))\n",
    "increase=int(input(\"Average daily population increase (as a percentage):  \"))\n",
    "day=int(input(\"Number of days to multiply: \"))\n",
    "for i in range(0,day):\n",
    "    temp=increase/100*population\n",
    "    print(i+1, \"   :   \" , population)\n",
    "    population+=temp"
   ]
  }
 ],
 "metadata": {
  "kernelspec": {
   "display_name": "Python 3",
   "language": "python",
   "name": "python3"
  },
  "language_info": {
   "codemirror_mode": {
    "name": "ipython",
    "version": 3
   },
   "file_extension": ".py",
   "mimetype": "text/x-python",
   "name": "python",
   "nbconvert_exporter": "python",
   "pygments_lexer": "ipython3",
   "version": "3.8.5"
  }
 },
 "nbformat": 4,
 "nbformat_minor": 4
}
